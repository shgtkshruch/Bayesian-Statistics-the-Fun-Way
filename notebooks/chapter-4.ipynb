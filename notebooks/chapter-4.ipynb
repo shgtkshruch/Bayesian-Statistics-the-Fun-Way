{
 "cells": [
  {
   "cell_type": "code",
   "execution_count": 128,
   "metadata": {},
   "outputs": [],
   "source": [
    "import numpy as np"
   ]
  },
  {
   "cell_type": "code",
   "execution_count": 129,
   "metadata": {},
   "outputs": [],
   "source": [
    "from math import factorial"
   ]
  },
  {
   "cell_type": "markdown",
   "metadata": {},
   "source": [
    "$$\n",
    "    B(5; 10, \\frac{4}{52}) \\\\\n",
    "    =  B(5; 10, \\frac{1}{13}) \\\\\n",
    "    = \\left(\\begin{array}{c}\n",
    "   10 \\\\\n",
    "    5 \\\\\n",
    "    \\end{array}\\right)\n",
    "    \\times (\\frac{1}{13}) ^ 5 \\times ( 1 - \\frac{1}{13}) ^ 5 \\\\\n",
    "    = \\frac{10!}{5! \\times 5!} \\times (\\frac{1}{13}) ^ 5 \\times (1 - \\frac{1}{13}) ^ 5 \\\\\n",
    "$$"
   ]
  },
  {
   "cell_type": "code",
   "execution_count": 135,
   "metadata": {},
   "outputs": [
    {
     "data": {
      "text/plain": [
       "0.0004548552879040863"
      ]
     },
     "execution_count": 135,
     "metadata": {},
     "output_type": "execute_result"
    }
   ],
   "source": [
    "factorial(10) // (factorial(5) * factorial(5)) * (1 / 13) ** 5 * (1 - 1 / 13) ** 5"
   ]
  },
  {
   "cell_type": "code",
   "execution_count": null,
   "metadata": {},
   "outputs": [],
   "source": []
  }
 ],
 "metadata": {
  "kernelspec": {
   "display_name": "Python 3",
   "language": "python",
   "name": "python3"
  },
  "language_info": {
   "codemirror_mode": {
    "name": "ipython",
    "version": 3
   },
   "file_extension": ".py",
   "mimetype": "text/x-python",
   "name": "python",
   "nbconvert_exporter": "python",
   "pygments_lexer": "ipython3",
   "version": "3.8.3"
  }
 },
 "nbformat": 4,
 "nbformat_minor": 4
}
