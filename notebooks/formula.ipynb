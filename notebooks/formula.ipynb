{
 "cells": [
  {
   "cell_type": "markdown",
   "metadata": {},
   "source": [
    "# 公式\n"
   ]
  },
  {
   "cell_type": "markdown",
   "metadata": {},
   "source": [
    "## 二項分布\n",
    "\n",
    "- n: 試行回数\n",
    "- k: 関心の出来事が起こった回数\n",
    "- p: ある出来事が起こる確率\n",
    "\n",
    "$$\n",
    "     B(k; n, p) = \\left(\\frac{n!}{k! \\times (n-k)!} \\right) \\times p ^ k \\times (1 - p) ^ { n-k }\n",
    "$$"
   ]
  },
  {
   "cell_type": "markdown",
   "metadata": {},
   "source": [
    "## ベータ分布\n",
    "\n",
    "- p: ある出来事が起こる確率\n",
    "- α: 関心のある出来事が起こった回数\n",
    "- β: 関心のある出来事が**起こらなかった**回数\n",
    "\n",
    "    \n",
    "$$\n",
    "    Beta(p; α, β) = \\frac{p ^ {α - 1} \\times (1 - p) ^ {β-1}} {beta(α, β)}\n",
    "$$"
   ]
  }
 ],
 "metadata": {
  "kernelspec": {
   "display_name": "Python 3",
   "language": "python",
   "name": "python3"
  },
  "language_info": {
   "codemirror_mode": {
    "name": "ipython",
    "version": 3
   },
   "file_extension": ".py",
   "mimetype": "text/x-python",
   "name": "python",
   "nbconvert_exporter": "python",
   "pygments_lexer": "ipython3",
   "version": "3.8.3"
  }
 },
 "nbformat": 4,
 "nbformat_minor": 4
}
